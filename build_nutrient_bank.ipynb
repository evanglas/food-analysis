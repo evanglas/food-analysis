{
 "cells": [
  {
   "cell_type": "code",
   "execution_count": 1,
   "metadata": {},
   "outputs": [],
   "source": [
    "import pandas as pd"
   ]
  },
  {
   "cell_type": "code",
   "execution_count": null,
   "metadata": {},
   "outputs": [],
   "source": [
    "df = pd.read_parquet(\"data/dataset.parquet\")\n",
    "nutrients = df[[\"name\", \"nutrient_nbr\", \"unit_name\"]].drop_duplicates(keep=\"first\")\n",
    "nutrients = nutrients.sort_values(by=\"nutrient_nbr\").reset_index(drop=True)"
   ]
  },
  {
   "cell_type": "code",
   "execution_count": null,
   "metadata": {},
   "outputs": [],
   "source": [
    "nutrients = nutrients.rename(columns={\"name\": \"nutrient_name\"})"
   ]
  },
  {
   "cell_type": "code",
   "execution_count": null,
   "metadata": {},
   "outputs": [],
   "source": [
    "nutrients[\"nutrient_informal_name\"] = nutrients.nutrient_name"
   ]
  },
  {
   "cell_type": "code",
   "execution_count": null,
   "metadata": {},
   "outputs": [],
   "source": [
    "nutrients = nutrients[\n",
    "    [\"nutrient_nbr\", \"nutrient_name\", \"nutrient_informal_name\", \"unit_name\"]\n",
    "]"
   ]
  },
  {
   "cell_type": "code",
   "execution_count": null,
   "metadata": {},
   "outputs": [],
   "source": [
    "nutrients_no_duplicate_nbrs = nutrients.drop_duplicates(\n",
    "    subset=\"nutrient_nbr\", keep=\"last\"\n",
    ")"
   ]
  },
  {
   "cell_type": "code",
   "execution_count": null,
   "metadata": {},
   "outputs": [],
   "source": [
    "nutrients.to_csv(\"data/nutrients.csv\", index=False)"
   ]
  },
  {
   "cell_type": "code",
   "execution_count": null,
   "metadata": {},
   "outputs": [],
   "source": []
  },
  {
   "cell_type": "code",
   "execution_count": 45,
   "metadata": {},
   "outputs": [],
   "source": [
    "nutrients_no_duplicate_nbrs.to_csv(\"data/nutrients_no_duplicate_nbrs.csv\")"
   ]
  },
  {
   "cell_type": "code",
   "execution_count": null,
   "metadata": {},
   "outputs": [
    {
     "data": {
      "text/plain": [
       "0      203\n",
       "1      204\n",
       "2      205\n",
       "3      207\n",
       "4      208\n",
       "      ... \n",
       "144    855\n",
       "145    856\n",
       "146    857\n",
       "147    858\n",
       "148    859\n",
       "Name: nutrient_nbr, Length: 149, dtype: int64"
      ]
     },
     "execution_count": 44,
     "metadata": {},
     "output_type": "execute_result"
    }
   ],
   "source": [
    "pd.read_csv(\"data/nutrients_no_duplicate_nbrs.csv\").nutrient_nbr"
   ]
  },
  {
   "cell_type": "code",
   "execution_count": 42,
   "metadata": {},
   "outputs": [
    {
     "data": {
      "text/html": [
       "<div>\n",
       "<style scoped>\n",
       "    .dataframe tbody tr th:only-of-type {\n",
       "        vertical-align: middle;\n",
       "    }\n",
       "\n",
       "    .dataframe tbody tr th {\n",
       "        vertical-align: top;\n",
       "    }\n",
       "\n",
       "    .dataframe thead th {\n",
       "        text-align: right;\n",
       "    }\n",
       "</style>\n",
       "<table border=\"1\" class=\"dataframe\">\n",
       "  <thead>\n",
       "    <tr style=\"text-align: right;\">\n",
       "      <th></th>\n",
       "      <th>nutrient_nbr</th>\n",
       "      <th>nutrient_name</th>\n",
       "      <th>nutrient_informal_name</th>\n",
       "      <th>unit_name</th>\n",
       "    </tr>\n",
       "  </thead>\n",
       "  <tbody>\n",
       "    <tr>\n",
       "      <th>0</th>\n",
       "      <td>203</td>\n",
       "      <td>Protein</td>\n",
       "      <td>Protein</td>\n",
       "      <td>G</td>\n",
       "    </tr>\n",
       "    <tr>\n",
       "      <th>1</th>\n",
       "      <td>204</td>\n",
       "      <td>Total lipid (fat)</td>\n",
       "      <td>Total lipid (fat)</td>\n",
       "      <td>G</td>\n",
       "    </tr>\n",
       "    <tr>\n",
       "      <th>3</th>\n",
       "      <td>205</td>\n",
       "      <td>Carbohydrate, by difference</td>\n",
       "      <td>Carbohydrate, by difference</td>\n",
       "      <td>G</td>\n",
       "    </tr>\n",
       "    <tr>\n",
       "      <th>4</th>\n",
       "      <td>207</td>\n",
       "      <td>Ash</td>\n",
       "      <td>Ash</td>\n",
       "      <td>G</td>\n",
       "    </tr>\n",
       "    <tr>\n",
       "      <th>5</th>\n",
       "      <td>208</td>\n",
       "      <td>Energy</td>\n",
       "      <td>Energy</td>\n",
       "      <td>KCAL</td>\n",
       "    </tr>\n",
       "    <tr>\n",
       "      <th>...</th>\n",
       "      <td>...</td>\n",
       "      <td>...</td>\n",
       "      <td>...</td>\n",
       "      <td>...</td>\n",
       "    </tr>\n",
       "    <tr>\n",
       "      <th>154</th>\n",
       "      <td>855</td>\n",
       "      <td>PUFA 2:4 n-6</td>\n",
       "      <td>PUFA 2:4 n-6</td>\n",
       "      <td>G</td>\n",
       "    </tr>\n",
       "    <tr>\n",
       "      <th>155</th>\n",
       "      <td>856</td>\n",
       "      <td>PUFA 18:3i</td>\n",
       "      <td>PUFA 18:3i</td>\n",
       "      <td>G</td>\n",
       "    </tr>\n",
       "    <tr>\n",
       "      <th>156</th>\n",
       "      <td>857</td>\n",
       "      <td>PUFA 21:5</td>\n",
       "      <td>PUFA 21:5</td>\n",
       "      <td>G</td>\n",
       "    </tr>\n",
       "    <tr>\n",
       "      <th>157</th>\n",
       "      <td>858</td>\n",
       "      <td>PUFA 22:4</td>\n",
       "      <td>PUFA 22:4</td>\n",
       "      <td>G</td>\n",
       "    </tr>\n",
       "    <tr>\n",
       "      <th>158</th>\n",
       "      <td>859</td>\n",
       "      <td>MUFA 18:1-11 t (18:1t n-7)</td>\n",
       "      <td>MUFA 18:1-11 t (18:1t n-7)</td>\n",
       "      <td>G</td>\n",
       "    </tr>\n",
       "  </tbody>\n",
       "</table>\n",
       "<p>149 rows × 4 columns</p>\n",
       "</div>"
      ],
      "text/plain": [
       "     nutrient_nbr                nutrient_name       nutrient_informal_name  \\\n",
       "0             203                      Protein                      Protein   \n",
       "1             204            Total lipid (fat)            Total lipid (fat)   \n",
       "3             205  Carbohydrate, by difference  Carbohydrate, by difference   \n",
       "4             207                          Ash                          Ash   \n",
       "5             208                       Energy                       Energy   \n",
       "..            ...                          ...                          ...   \n",
       "154           855                 PUFA 2:4 n-6                 PUFA 2:4 n-6   \n",
       "155           856                   PUFA 18:3i                   PUFA 18:3i   \n",
       "156           857                    PUFA 21:5                    PUFA 21:5   \n",
       "157           858                    PUFA 22:4                    PUFA 22:4   \n",
       "158           859   MUFA 18:1-11 t (18:1t n-7)   MUFA 18:1-11 t (18:1t n-7)   \n",
       "\n",
       "    unit_name  \n",
       "0           G  \n",
       "1           G  \n",
       "3           G  \n",
       "4           G  \n",
       "5        KCAL  \n",
       "..        ...  \n",
       "154         G  \n",
       "155         G  \n",
       "156         G  \n",
       "157         G  \n",
       "158         G  \n",
       "\n",
       "[149 rows x 4 columns]"
      ]
     },
     "execution_count": 42,
     "metadata": {},
     "output_type": "execute_result"
    }
   ],
   "source": [
    "nutrients_no_duplicate_nbrs"
   ]
  }
 ],
 "metadata": {
  "kernelspec": {
   "display_name": "food_analysis",
   "language": "python",
   "name": "python3"
  },
  "language_info": {
   "codemirror_mode": {
    "name": "ipython",
    "version": 3
   },
   "file_extension": ".py",
   "mimetype": "text/x-python",
   "name": "python",
   "nbconvert_exporter": "python",
   "pygments_lexer": "ipython3",
   "version": "3.12.3"
  }
 },
 "nbformat": 4,
 "nbformat_minor": 2
}
