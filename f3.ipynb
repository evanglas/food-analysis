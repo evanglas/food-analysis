{
 "cells": [
  {
   "cell_type": "code",
   "execution_count": 26,
   "metadata": {},
   "outputs": [],
   "source": [
    "import pandas as pd\n",
    "import numpy as np\n",
    "\n",
    "epa_dha = [621, 629]\n",
    "omega_6 = [618, 619, 620]\n",
    "food_list = pd.read_csv(\"data/food_codes_v3.csv\", encoding=\"latin1\")\n",
    "food_nutrients = pd.read_parquet(\"data/dataset.parquet\")\n",
    "food_list[\"food_name\"] = food_list.food_name.str.strip()\n",
    "food_list[\"fdc_id\"] = food_list.fdc_id.astype(int)\n",
    "food_list[\"g\"] = food_list[\"lbs\"] * 453.592\n",
    "food_list[\"price_per_100_g\"] = food_list[\"price\"] / food_list[\"g\"] * 100"
   ]
  },
  {
   "cell_type": "code",
   "execution_count": 27,
   "metadata": {},
   "outputs": [],
   "source": [
    "food_nutrients = food_nutrients.rename(columns={\"name\": \"nutrient_name\"})\n",
    "food_nutrients[\"nutrient_nbr\"] = food_nutrients.nutrient_nbr.astype(int)"
   ]
  },
  {
   "cell_type": "code",
   "execution_count": 29,
   "metadata": {},
   "outputs": [],
   "source": [
    "list_nutrients = food_list.merge(food_nutrients, on=\"fdc_id\", how=\"inner\")\n",
    "list_nutrients = list_nutrients.loc[list_nutrients.nutrient_nbr != 268]\n",
    "list_nutrients[\"nutrient_density\"] = (\n",
    "    list_nutrients[\"amount\"] / list_nutrients[\"price_per_100_g\"]\n",
    ")\n",
    "\n",
    "# def get_combo_row(combo_name, unit_name, nutrient_nbrs, new_unit_nbr):\n",
    "#     amounts = (\n",
    "#         list_nutrients.loc[list_nutrients.nutrient_nbr.isin(nutrient_nbrs)]\n",
    "#         .groupby(\"food\")\n",
    "#         .amount.sum()\n",
    "#     )\n",
    "#     densities = (\n",
    "#         list_nutrients[[\"food\", \"price_per_100_g\"]]\n",
    "#         .drop_duplicates()\n",
    "#         .set_index(\"food\")\n",
    "#         .join(amounts)\n",
    "#     )\n",
    "#     densities[\"nutrient_density\"] = densities.amount / densities.price_per_100_g\n",
    "#     densities[\"nutrient_nbr\"] = new_unit_nbr\n",
    "#     densities[\"nutrient_name\"] = combo_name\n",
    "#     densities[\"unit_name\"] = unit_name\n",
    "#     row = (\n",
    "#         densities.reset_index()\n",
    "#         .pivot(\n",
    "#             index=[\"nutrient_nbr\", \"nutrient_name\", \"unit_name\"],\n",
    "#             columns=\"food\",\n",
    "#             values=\"nutrient_density\",\n",
    "#         )\n",
    "#         .reset_index()\n",
    "#         .set_index(\"nutrient_nbr\")\n",
    "#     )\n",
    "#     return row\n",
    "\n",
    "\n",
    "# epa_dpa_row = get_combo_row(\"EPA+DHA\", \"g\", epa_dha, -1)\n",
    "# omega_6_row = get_combo_row(\"Omega-6\", \"g\", omega_6, -2)"
   ]
  },
  {
   "cell_type": "code",
   "execution_count": 53,
   "metadata": {},
   "outputs": [],
   "source": [
    "# Pivot list_nutrients to prepare for merge with constraints\n",
    "food_nutrient_densities = (\n",
    "    list_nutrients.pivot(\n",
    "        index=[\"food_name\", \"fdc_id\", \"price_per_100_g\"],\n",
    "        columns=\"nutrient_nbr\",\n",
    "        values=\"amount\",\n",
    "    )\n",
    "    .fillna(0)\n",
    "    .reset_index()\n",
    ")\n",
    "# lp = pd.concat([lp, epa_dpa_row])\n",
    "# lp = pd.concat([lp, omega_6_row])\n",
    "# lp = lp.loc[~lp.index.isin(epa_dha)]\n",
    "# lp = lp.loc[~lp.index.isin(omega_6)]"
   ]
  },
  {
   "cell_type": "code",
   "execution_count": 55,
   "metadata": {},
   "outputs": [],
   "source": [
    "food_nutrient_densities.to_csv(\"data/food_nutrient_amounts.csv\")"
   ]
  },
  {
   "cell_type": "code",
   "execution_count": 32,
   "metadata": {},
   "outputs": [],
   "source": [
    "# df_for_pulp = constraints.drop(columns=[\"nutrient_name\", \"unit_name\"]).merge(\n",
    "#     lp, on=\"nutrient_nbr\", how=\"right\"\n",
    "# )\n",
    "# df_for_pulp.to_csv(\"df_for_pulp_testing.csv\")"
   ]
  }
 ],
 "metadata": {
  "kernelspec": {
   "display_name": "food_analysis",
   "language": "python",
   "name": "python3"
  },
  "language_info": {
   "codemirror_mode": {
    "name": "ipython",
    "version": 3
   },
   "file_extension": ".py",
   "mimetype": "text/x-python",
   "name": "python",
   "nbconvert_exporter": "python",
   "pygments_lexer": "ipython3",
   "version": "3.12.3"
  }
 },
 "nbformat": 4,
 "nbformat_minor": 2
}
