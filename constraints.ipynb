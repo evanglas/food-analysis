{
 "cells": [
  {
   "cell_type": "code",
   "execution_count": 1,
   "metadata": {},
   "outputs": [],
   "source": [
    "import pandas as pd\n",
    "from pulp import LpMinimize, LpMaximize, LpProblem, LpVariable"
   ]
  },
  {
   "cell_type": "code",
   "execution_count": 2,
   "metadata": {},
   "outputs": [],
   "source": [
    "cnap = pd.read_csv('core_nutrient_amounts_prices_v3.csv', index_col=0)\n",
    "cnap = cnap.rename(columns={'name': 'nutrient_name'})\n",
    "constraints = pd.read_csv('nutrient_constraints_csv.csv').set_index('nutrient_nbr').drop(columns=['id', 'rank']).rename(columns={'name': 'nutrient_name'})\n",
    "constraints = constraints.loc[constraints.target.notna() | constraints.ll.notna() | constraints.ul.notna()]    \n",
    "n_values = cnap.pivot(index='nutrient_nbr', columns='food', values='nutrient_unit_per_dollar')\n",
    "cc = constraints.join(n_values, how='left')\n",
    "first_food_idx = cc.columns.get_loc('Almonds')\n",
    "cc.iloc[:, first_food_idx:] = cc.iloc[:, first_food_idx:].fillna(0)"
   ]
  },
  {
   "cell_type": "code",
   "execution_count": 13,
   "metadata": {},
   "outputs": [
    {
     "name": "stdout",
     "output_type": "stream",
     "text": [
      "Energy 3500.0\n"
     ]
    }
   ],
   "source": [
    "prob = LpProblem(\"Minimize_Cost\", LpMinimize)\n",
    "decision_variables = []\n",
    "first_food_idx = cc.columns.get_loc('Almonds')\n",
    "prob += sum([decision_variable for decision_variable in decision_variables])\n",
    "for food in cc.columns[first_food_idx:]:\n",
    "    decision_variables.append(LpVariable(f\"{food}\", lowBound=0))\n",
    "for i, row in cc.iterrows():\n",
    "    constraint = 0\n",
    "    for j, food in enumerate(cc.columns[first_food_idx:]):\n",
    "        constraint += decision_variables[j] * row[food]\n",
    "    if pd.notna(row.target):\n",
    "        print(row.nutrient_name, row.target)\n",
    "        prob += constraint == row.target\n",
    "    elif pd.notna(row.ll):\n",
    "        prob += constraint >= row.ll\n",
    "    elif pd.notna(row.ul):\n",
    "        prob += constraint <= row.ul"
   ]
  },
  {
   "cell_type": "code",
   "execution_count": 14,
   "metadata": {},
   "outputs": [
    {
     "name": "stdout",
     "output_type": "stream",
     "text": [
      "Beef_Liver = 0.030385023\n",
      "Chia_seeds = 1.3500218\n",
      "Eggs = 0.057788012\n",
      "Mussels = 7.4565052\n",
      "Potatoes = 0.581872\n",
      "Salmon = 2.4855609\n",
      "Sunflower_seeds = 1.5915374\n",
      "Tomatoes = 4.1993127\n",
      "__dummy = None\n"
     ]
    }
   ],
   "source": [
    "prob.solve()\n",
    "for v in prob.variables():\n",
    "    if v.varValue != 0:\n",
    "        print(v.name, \"=\", v.varValue)"
   ]
  },
  {
   "cell_type": "code",
   "execution_count": 5,
   "metadata": {},
   "outputs": [],
   "source": [
    "fs = pd.DataFrame([(v.name, v.varValue) for v in prob.variables() if v.varValue != 0], columns=['food', 'spend']).iloc[:-1,:]\n",
    "cn = cc.set_index('nutrient_name').iloc[:, 4:]\n",
    "# Rank the foods for each nutrient\n",
    "food_ranks = cn.rank(axis=1, method='min', ascending=False)\n",
    "final_foods = cnap.loc[cnap.food.isin([v.name for v in prob.variables() if v.varValue != 0])].drop_duplicates('food')"
   ]
  },
  {
   "cell_type": "code",
   "execution_count": 6,
   "metadata": {},
   "outputs": [],
   "source": [
    "ffs = final_foods.merge(fs, on='food')"
   ]
  },
  {
   "cell_type": "code",
   "execution_count": 7,
   "metadata": {},
   "outputs": [
    {
     "data": {
      "text/plain": [
       "0    24.577737\n",
       "1     4.809704\n",
       "2     1.409288\n",
       "3     3.382211\n",
       "4     0.174748\n",
       "dtype: float64"
      ]
     },
     "execution_count": 7,
     "metadata": {},
     "output_type": "execute_result"
    }
   ],
   "source": [
    "ffs.spend / ffs.price_per_100_g"
   ]
  },
  {
   "cell_type": "code",
   "execution_count": 8,
   "metadata": {},
   "outputs": [
    {
     "data": {
      "text/plain": [
       "5395.079166379999"
      ]
     },
     "execution_count": 8,
     "metadata": {},
     "output_type": "execute_result"
    }
   ],
   "source": [
    "ffs.spend.sum() * 365"
   ]
  },
  {
   "cell_type": "code",
   "execution_count": 9,
   "metadata": {},
   "outputs": [
    {
     "data": {
      "text/plain": [
       "3.086474188257289"
      ]
     },
     "execution_count": 9,
     "metadata": {},
     "output_type": "execute_result"
    }
   ],
   "source": [
    "14 * 100 / 453.592"
   ]
  },
  {
   "cell_type": "code",
   "execution_count": 10,
   "metadata": {},
   "outputs": [],
   "source": [
    "# TODO: add fiber constraint, maybe variety constraint, check numbers so that oysters probably don't show up"
   ]
  },
  {
   "cell_type": "code",
   "execution_count": 11,
   "metadata": {},
   "outputs": [
    {
     "data": {
      "text/plain": [
       "nutrient_name\n",
       "Caffeine                           1.0\n",
       "Sodium, Na                         2.0\n",
       "Thiamin                            5.0\n",
       "Niacin                             5.0\n",
       "Magnesium, Mg                      5.0\n",
       "Phosphorus, P                      6.0\n",
       "Lycopene                           6.0\n",
       "Vitamin B-6                        7.0\n",
       "Carbohydrate, by difference        8.0\n",
       "Energy                             8.0\n",
       "Riboflavin                         8.0\n",
       "Zinc, Zn                           8.0\n",
       "Selenium, Se                      10.0\n",
       "PUFA 20:5 n-3 (EPA)               11.0\n",
       "Vitamin D (D2 + D3)               12.0\n",
       "Fiber, total dietary              12.0\n",
       "PUFA 22:6 n-3 (DHA)               12.0\n",
       "Iron, Fe                          15.0\n",
       "Choline, total                    15.0\n",
       "Copper, Cu                        15.0\n",
       "PUFA 22:5 n-3 (DPA)               15.0\n",
       "Protein                           16.0\n",
       "Potassium, K                      18.0\n",
       "PUFA 18:2                         18.0\n",
       "Retinol                           22.0\n",
       "Vitamin B-12                      24.0\n",
       "Cholesterol                       24.0\n",
       "Fatty acids, total saturated      24.0\n",
       "Folate, DFE                       25.0\n",
       "Vitamin E (alpha-tocopherol)      25.0\n",
       "Carotene, alpha                   25.0\n",
       "Total lipid (fat)                 26.0\n",
       "PUFA 18:3                         28.0\n",
       "Calcium, Ca                       49.0\n",
       "Vitamin K (phylloquinone)         51.0\n",
       "Vitamin C, total ascorbic acid    57.0\n",
       "Carotene, beta                    59.0\n",
       "Vitamin A, RAE                    61.0\n",
       "Name: Brown rice, dtype: float64"
      ]
     },
     "execution_count": 11,
     "metadata": {},
     "output_type": "execute_result"
    }
   ],
   "source": [
    "food_ranks['Brown rice'].sort_values()"
   ]
  }
 ],
 "metadata": {
  "kernelspec": {
   "display_name": "food_analysis",
   "language": "python",
   "name": "python3"
  },
  "language_info": {
   "codemirror_mode": {
    "name": "ipython",
    "version": 3
   },
   "file_extension": ".py",
   "mimetype": "text/x-python",
   "name": "python",
   "nbconvert_exporter": "python",
   "pygments_lexer": "ipython3",
   "version": "3.12.3"
  }
 },
 "nbformat": 4,
 "nbformat_minor": 2
}
