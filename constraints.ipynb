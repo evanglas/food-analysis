{
 "cells": [
  {
   "cell_type": "code",
   "execution_count": 4,
   "metadata": {},
   "outputs": [],
   "source": [
    "import pandas as pd\n",
    "from pulp import LpMaximize, LpProblem, LpVariable"
   ]
  },
  {
   "cell_type": "code",
   "execution_count": 5,
   "metadata": {},
   "outputs": [
    {
     "name": "stdout",
     "output_type": "stream",
     "text": [
      "Optimal solution: x1 = 7.0, x2 = 6.0\n",
      "Optimal value: 45.0\n"
     ]
    }
   ],
   "source": [
    "# Create the LP problem\n",
    "prob = LpProblem(\"Maximize_Profit\", LpMaximize)\n",
    "\n",
    "# Define decision variables\n",
    "x1 = LpVariable(\"x1\", lowBound=0)\n",
    "x2 = LpVariable(\"x2\", lowBound=0)\n",
    "\n",
    "# Define the DataFrame with coefficients and bounds\n",
    "df_constraints = pd.DataFrame(\n",
    "    {\n",
    "        \"x1_coeff\": [2, 1],  # Coefficients for x1\n",
    "        \"x2_coeff\": [1, 3],\n",
    "        # Coefficients for x2\n",
    "        \"lower_bound\": [10, 15],  # Lower bounds for the linear combinations\n",
    "        \"upper_bound\": [20, 25],  # Upper bounds for the linear combinations\n",
    "    }\n",
    ")\n",
    "\n",
    "# Objective function\n",
    "prob += 3 * x1 + 4 * x2  # Example objective function\n",
    "\n",
    "# Iterate through the DataFrame and add constraints\n",
    "for i, row in df_constraints.iterrows():\n",
    "    # Add the lower bound constraint: row['x1_coeff']*x1 + row['x2_coeff']*x2 >= row['lower_bound']\n",
    "    prob += row[\"x1_coeff\"] * x1 + row[\"x2_coeff\"] * x2 >= row[\"lower_bound\"]\n",
    "\n",
    "    # Add the upper bound constraint: row['x1_coeff']*x1 + row['x2_coeff']*x2 <= row['upper_bound']\n",
    "    prob += row[\"x1_coeff\"] * x1 + row[\"x2_coeff\"] * x2 <= row[\"upper_bound\"]\n",
    "\n",
    "# Solve the problem\n",
    "prob.solve()\n",
    "\n",
    "# Results\n",
    "print(f\"Optimal solution: x1 = {x1.varValue}, x2 = {x2.varValue}\")\n",
    "print(f\"Optimal value: {prob.objective.value()}\")"
   ]
  },
  {
   "cell_type": "code",
   "execution_count": 102,
   "metadata": {},
   "outputs": [],
   "source": [
    "cnap = pd.read_csv('core_nutrient_amounts_prices_v3.csv', index_col=0)\n",
    "cnap = cnap.rename(columns={'name': 'nutrient_name'})\n",
    "constraints = pd.read_csv('nutrient_constraints_csv.csv').set_index('nutrient_nbr').drop(columns=['id', 'rank']).rename(columns={'name': 'nutrient_name'})\n",
    "constraints = constraints.loc[constraints.target.notna() | constraints.ll.notna() | constraints.ul.notna()]    \n",
    "n_values = cnap.pivot(index='nutrient_nbr', columns='food', values='nutrient_unit_per_dollar')\n",
    "cc = constraints.join(n_values, how='left')"
   ]
  },
  {
   "cell_type": "code",
   "execution_count": 127,
   "metadata": {},
   "outputs": [],
   "source": [
    "prob = LpProblem(\"Minimize_Cost\", LpMaximize)\n",
    "decision_variables = []\n",
    "first_food_idx = cc.columns.get_loc('Almonds')\n",
    "for food in cc.columns[first_food_idx:]:\n",
    "    decision_variables.append(LpVariable(f\"{food}\", lowBound=0))\n",
    "for i, row in cc.iterrows():\n",
    "    constraint = 0\n",
    "    for j, food in enumerate(cc.columns[first_food_idx:]):\n",
    "        constraint += decision_variables[j] * row[food]\n",
    "    if pd.notna(row.target):\n",
    "        prob += constraint == row.target\n",
    "    elif pd.notna(row.ll):\n",
    "        prob += constraint >= row.ll\n",
    "    elif pd.notna(row.ul):\n",
    "        prob += constraint <= row.ul"
   ]
  },
  {
   "cell_type": "code",
   "execution_count": 144,
   "metadata": {},
   "outputs": [
    {
     "name": "stdout",
     "output_type": "stream",
     "text": [
      "Almonds = 0.56273633\n",
      "Beef_Liver = 0.03739722\n",
      "Carrots = 2.4840002\n",
      "Grapefruit = 2.5735587\n",
      "Lentils = 0.12942993\n",
      "Oysters = 3.003217\n",
      "Salmon = 7.2746342\n",
      "__dummy = None\n"
     ]
    }
   ],
   "source": [
    "prob.solve()\n",
    "for v in prob.variables():\n",
    "    if v.varValue != 0:\n",
    "        print(v.name, \"=\", v.varValue)"
   ]
  },
  {
   "cell_type": "code",
   "execution_count": 166,
   "metadata": {},
   "outputs": [],
   "source": [
    "fs = pd.DataFrame([(v.name, v.varValue) for v in prob.variables() if v.varValue != 0], columns=['food', 'spend']).iloc[:-1,:]\n",
    "cn = cc.set_index('nutrient_name').iloc[:, 4:]\n",
    "# Rank the foods for each nutrient\n",
    "food_ranks = cn.rank(axis=1, method='min', ascending=False)\n",
    "final_foods = cnap.loc[cnap.food.isin([v.name for v in prob.variables() if v.varValue != 0])].drop_duplicates('food')"
   ]
  },
  {
   "cell_type": "code",
   "execution_count": 169,
   "metadata": {},
   "outputs": [],
   "source": [
    "ffs = final_foods.merge(fs, on='food')"
   ]
  },
  {
   "cell_type": "code",
   "execution_count": 171,
   "metadata": {},
   "outputs": [
    {
     "data": {
      "text/plain": [
       "0    14.538356\n",
       "1     9.760415\n",
       "2     0.638132\n",
       "3     4.124645\n",
       "4     1.362235\n",
       "5     0.435038\n",
       "dtype: float64"
      ]
     },
     "execution_count": 171,
     "metadata": {},
     "output_type": "execute_result"
    }
   ],
   "source": [
    "ffs.spend / ffs.price_per_100_g"
   ]
  },
  {
   "cell_type": "code",
   "execution_count": 176,
   "metadata": {},
   "outputs": [
    {
     "data": {
      "text/plain": [
       "5850.0653714"
      ]
     },
     "execution_count": 176,
     "metadata": {},
     "output_type": "execute_result"
    }
   ],
   "source": [
    "ffs.spend.sum() * 365"
   ]
  },
  {
   "cell_type": "code",
   "execution_count": 173,
   "metadata": {},
   "outputs": [
    {
     "data": {
      "text/plain": [
       "3.086474188257289"
      ]
     },
     "execution_count": 173,
     "metadata": {},
     "output_type": "execute_result"
    }
   ],
   "source": [
    "14 * 100 / 453.592"
   ]
  },
  {
   "cell_type": "code",
   "execution_count": 174,
   "metadata": {},
   "outputs": [],
   "source": [
    "# TODO: add fiber constraint, maybe variety constraint, check numbers so that oysters probably don't show up"
   ]
  }
 ],
 "metadata": {
  "kernelspec": {
   "display_name": "food_analysis",
   "language": "python",
   "name": "python3"
  },
  "language_info": {
   "codemirror_mode": {
    "name": "ipython",
    "version": 3
   },
   "file_extension": ".py",
   "mimetype": "text/x-python",
   "name": "python",
   "nbconvert_exporter": "python",
   "pygments_lexer": "ipython3",
   "version": "3.12.3"
  }
 },
 "nbformat": 4,
 "nbformat_minor": 2
}
