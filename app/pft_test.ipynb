{
 "cells": [
  {
   "cell_type": "code",
   "execution_count": 1,
   "metadata": {},
   "outputs": [],
   "source": [
    "import pandas as pd\n",
    "from pyfoodopt import *"
   ]
  },
  {
   "cell_type": "code",
   "execution_count": null,
   "metadata": {},
   "outputs": [],
   "source": [
    "nb = NutrientBank()\n",
    "nb.build_nutrient_bank_from_csv(\"../data/nutrients_no_duplicate_nbrs.csv\")\n",
    "constraints = Constraints()\n",
    "constraints.add_nutrient_constraints_from_json(\"../data/nutrient_constraints_2.json\")\n",
    "# constraints.add_nutrient_constraints_from_csv(\"../data/nutrient_constraints.csv\")\n",
    "pantry = Pantry()\n",
    "pantry.build_pantry_from_json(\"../data/food_data.json\")\n",
    "FOOD_RESTRICTIONS = [r for r in FoodRestrictions.param.objects() if r != \"name\"]\n",
    "fo = FoodOptimizer(pantry=pantry, constraints=constraints)"
   ]
  },
  {
   "cell_type": "code",
   "execution_count": null,
   "metadata": {},
   "outputs": [],
   "source": []
  },
  {
   "cell_type": "code",
   "execution_count": 6,
   "metadata": {},
   "outputs": [
    {
     "ename": "TypeError",
     "evalue": "unsupported operand type(s) for -=: 'float' and 'NutrientConstraint'",
     "output_type": "error",
     "traceback": [
      "\u001b[1;31m---------------------------------------------------------------------------\u001b[0m",
      "\u001b[1;31mTypeError\u001b[0m                                 Traceback (most recent call last)",
      "Cell \u001b[1;32mIn[6], line 1\u001b[0m\n\u001b[1;32m----> 1\u001b[0m fo\u001b[38;5;241m.\u001b[39moptimize()\n",
      "File \u001b[1;32mc:\\Users\\eglas\\Documents\\projects\\food-analysis\\app\\pyfoodopt.py:457\u001b[0m, in \u001b[0;36mFoodOptimizer.optimize\u001b[1;34m(self)\u001b[0m\n\u001b[0;32m    455\u001b[0m             prob \u001b[38;5;241m+\u001b[39m\u001b[38;5;241m=\u001b[39m pulp_sum \u001b[38;5;241m<\u001b[39m\u001b[38;5;241m=\u001b[39m constraint_value\n\u001b[0;32m    456\u001b[0m         \u001b[38;5;28;01melif\u001b[39;00m constraint_type \u001b[38;5;241m==\u001b[39m \u001b[38;5;124m\"\u001b[39m\u001b[38;5;124mlower_bound\u001b[39m\u001b[38;5;124m\"\u001b[39m:\n\u001b[1;32m--> 457\u001b[0m             prob \u001b[38;5;241m+\u001b[39m\u001b[38;5;241m=\u001b[39m pulp_sum \u001b[38;5;241m>\u001b[39m\u001b[38;5;241m=\u001b[39m constraint_value\n\u001b[0;32m    459\u001b[0m \u001b[38;5;66;03m# print(prob)\u001b[39;00m\n\u001b[0;32m    460\u001b[0m status \u001b[38;5;241m=\u001b[39m prob\u001b[38;5;241m.\u001b[39msolve()\n",
      "File \u001b[1;32mc:\\Users\\eglas\\miniconda3\\envs\\food_analysis\\Lib\\site-packages\\pulp\\pulp.py:989\u001b[0m, in \u001b[0;36mLpAffineExpression.__ge__\u001b[1;34m(self, other)\u001b[0m\n\u001b[0;32m    988\u001b[0m \u001b[38;5;28;01mdef\u001b[39;00m \u001b[38;5;21m__ge__\u001b[39m(\u001b[38;5;28mself\u001b[39m, other):\n\u001b[1;32m--> 989\u001b[0m     \u001b[38;5;28;01mreturn\u001b[39;00m LpConstraint(\u001b[38;5;28mself\u001b[39m \u001b[38;5;241m-\u001b[39m other, const\u001b[38;5;241m.\u001b[39mLpConstraintGE)\n",
      "File \u001b[1;32mc:\\Users\\eglas\\miniconda3\\envs\\food_analysis\\Lib\\site-packages\\pulp\\pulp.py:907\u001b[0m, in \u001b[0;36mLpAffineExpression.__sub__\u001b[1;34m(self, other)\u001b[0m\n\u001b[0;32m    906\u001b[0m \u001b[38;5;28;01mdef\u001b[39;00m \u001b[38;5;21m__sub__\u001b[39m(\u001b[38;5;28mself\u001b[39m, other):\n\u001b[1;32m--> 907\u001b[0m     \u001b[38;5;28;01mreturn\u001b[39;00m \u001b[38;5;28mself\u001b[39m\u001b[38;5;241m.\u001b[39mcopy()\u001b[38;5;241m.\u001b[39msubInPlace(other)\n",
      "File \u001b[1;32mc:\\Users\\eglas\\miniconda3\\envs\\food_analysis\\Lib\\site-packages\\pulp\\pulp.py:884\u001b[0m, in \u001b[0;36mLpAffineExpression.subInPlace\u001b[1;34m(self, other)\u001b[0m\n\u001b[0;32m    882\u001b[0m         \u001b[38;5;28mself\u001b[39m\u001b[38;5;241m.\u001b[39msubInPlace(e)\n\u001b[0;32m    883\u001b[0m \u001b[38;5;28;01melse\u001b[39;00m:\n\u001b[1;32m--> 884\u001b[0m     \u001b[38;5;28mself\u001b[39m\u001b[38;5;241m.\u001b[39mconstant \u001b[38;5;241m-\u001b[39m\u001b[38;5;241m=\u001b[39m other\n\u001b[0;32m    885\u001b[0m \u001b[38;5;28;01mreturn\u001b[39;00m \u001b[38;5;28mself\u001b[39m\n",
      "\u001b[1;31mTypeError\u001b[0m: unsupported operand type(s) for -=: 'float' and 'NutrientConstraint'"
     ]
    }
   ],
   "source": [
    "fo.optimize()"
   ]
  }
 ],
 "metadata": {
  "kernelspec": {
   "display_name": "food_analysis",
   "language": "python",
   "name": "python3"
  },
  "language_info": {
   "codemirror_mode": {
    "name": "ipython",
    "version": 3
   },
   "file_extension": ".py",
   "mimetype": "text/x-python",
   "name": "python",
   "nbconvert_exporter": "python",
   "pygments_lexer": "ipython3",
   "version": "3.12.3"
  }
 },
 "nbformat": 4,
 "nbformat_minor": 2
}
