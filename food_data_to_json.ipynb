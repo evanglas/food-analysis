{
 "cells": [
  {
   "cell_type": "code",
   "execution_count": 1,
   "metadata": {},
   "outputs": [],
   "source": [
    "import pandas as pd\n",
    "import json"
   ]
  },
  {
   "cell_type": "code",
   "execution_count": null,
   "metadata": {},
   "outputs": [],
   "source": [
    "food_codes = pd.read_csv(\"data/food_codes_v3.csv\", index_col=0)\n",
    "food_codes = food_codes.reset_index().set_index(\"fdc_id\")\n",
    "food_nutrient_amounts = pd.read_csv(\"data/food_nutrient_amounts.csv\", index_col=0)\n",
    "food_codes[\"wheat_free\"] = food_codes.wheat ^ 1\n",
    "food_codes[\"nut_free\"] = food_codes.nuts ^ 1\n",
    "food_codes[\"fish_shellfish_free\"] = food_codes.fish_shellfish ^ 1\n",
    "food_codes[\"egg_free\"] = food_codes.eggs ^ 1\n",
    "food_codes[\"soy_free\"] = food_codes.soy ^ 1\n",
    "food_codes = food_codes.drop(columns=[\"wheat\", \"nuts\", \"fish_shellfish\", \"eggs\", \"soy\"])"
   ]
  },
  {
   "cell_type": "code",
   "execution_count": 72,
   "metadata": {},
   "outputs": [],
   "source": [
    "food_nutrient_amount_dict = (\n",
    "    food_nutrient_amounts.set_index(\"fdc_id\").iloc[:, 2:].T.to_dict()\n",
    ")\n",
    "food_dict = food_codes[\n",
    "    [\"food_name\", \"price\", \"lbs\", \"g\", \"price_per_100_g\"]\n",
    "].T.to_dict()\n",
    "food_restrictions = [\n",
    "    r\n",
    "    for r in food_codes.columns\n",
    "    if not r in [\"food_name\", \"fdc_id_fndds\", \"price\", \"lbs\", \"g\", \"price_per_100_g\"]\n",
    "]\n",
    "restriction_dict = (\n",
    "    food_codes[food_restrictions].T.map(lambda x: True if x == 1 else False).to_dict()\n",
    ")\n",
    "no_nutrition = []\n",
    "for fdc_id in food_dict:\n",
    "    food_dict[fdc_id][\"restrictions\"] = restriction_dict[fdc_id]\n",
    "    if fdc_id not in food_nutrient_amount_dict:\n",
    "        no_nutrition.append(fdc_id)\n",
    "    food_dict[fdc_id][\"food_nutrition\"] = food_nutrient_amount_dict.get(fdc_id)\n",
    "\n",
    "for fdc_id in no_nutrition:\n",
    "    del food_dict[fdc_id]\n",
    "\n",
    "with open(\"data/food_data.json\", \"w\") as f:\n",
    "    json.dump(food_dict, f)"
   ]
  },
  {
   "cell_type": "code",
   "execution_count": 73,
   "metadata": {},
   "outputs": [],
   "source": [
    "for fdc_id, food in food_dict.items():\n",
    "    if \"food_nutrition\" not in food or food[\"food_nutrition\"] is None:\n",
    "        print(food[\"food_name\"])"
   ]
  }
 ],
 "metadata": {
  "kernelspec": {
   "display_name": "food_analysis",
   "language": "python",
   "name": "python3"
  },
  "language_info": {
   "codemirror_mode": {
    "name": "ipython",
    "version": 3
   },
   "file_extension": ".py",
   "mimetype": "text/x-python",
   "name": "python",
   "nbconvert_exporter": "python",
   "pygments_lexer": "ipython3",
   "version": "3.12.3"
  }
 },
 "nbformat": 4,
 "nbformat_minor": 2
}
